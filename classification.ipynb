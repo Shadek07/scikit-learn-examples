{
 "cells": [
  {
   "cell_type": "code",
   "execution_count": 1,
   "metadata": {
    "collapsed": true
   },
   "outputs": [],
   "source": [
    "import sys\n",
    "import numpy as np\n",
    "import matplotlib.pyplot as plt\n",
    "import sklearn"
   ]
  },
  {
   "cell_type": "code",
   "execution_count": 2,
   "metadata": {
    "collapsed": true
   },
   "outputs": [],
   "source": [
    "%matplotlib inline"
   ]
  },
  {
   "cell_type": "code",
   "execution_count": 3,
   "metadata": {
    "collapsed": true
   },
   "outputs": [],
   "source": [
    "def line(x, y, a, b, c):\n",
    "    return a*x + b*y + c\n",
    "\n",
    "def line_color(line_func, *x, random_coef = 0.):\n",
    "    if line_func(*x) + random_coef * (np.random.rand(1) - 0.5) >= 0:\n",
    "        return 1\n",
    "    return 0"
   ]
  },
  {
   "cell_type": "code",
   "execution_count": 71,
   "metadata": {
    "collapsed": false
   },
   "outputs": [],
   "source": [
    "# let there be data\n",
    "N = 150\n",
    "X = np.random.rand(N, 2)\n",
    "y = np.empty(N)\n",
    "\n",
    "L = lambda x, y: line(x, y, a = 1.2, b = 0.8, c = -1)\n",
    "\n",
    "for i in range(N):\n",
    "    y[i] = line_color(L, *X[i], random_coef = 1)"
   ]
  },
  {
   "cell_type": "code",
   "execution_count": 72,
   "metadata": {
    "collapsed": false
   },
   "outputs": [
    {
     "data": {
      "image/png": "[encoded data removed]",
      "text/plain": [
       "<matplotlib.figure.Figure at 0x1097636a0>"
      ]
     },
     "metadata": {},
     "output_type": "display_data"
    }
   ],
   "source": [
    "fig, ax = plt.subplots(1, 1, figsize = (5, 5))\n",
    "ax.set(aspect = 1., xlim = (0,1), ylim = (0,1))\n",
    "X_0 = np.array([X[i] for i, c in enumerate(y) if c == 0])\n",
    "X_1 = np.array([X[i] for i, c in enumerate(y) if c == 1])\n",
    "_tmp = ax.scatter(X_0[:,0], X_0[:,1], c = \"red\")\n",
    "_tmp = ax.scatter(X_1[:,0], X_1[:,1], c = \"blue\")"
   ]
  },
  {
   "cell_type": "code",
   "execution_count": 73,
   "metadata": {
    "collapsed": true
   },
   "outputs": [],
   "source": [
    "import sklearn.cross_validation as cv"
   ]
  },
  {
   "cell_type": "code",
   "execution_count": 74,
   "metadata": {
    "collapsed": false
   },
   "outputs": [],
   "source": [
    "X_train, X_test, y_train, y_test = cv.train_test_split(X, y, train_size = 0.8)\n",
    "N_train = len(y_train)\n",
    "N_test = len(y_test)"
   ]
  },
  {
   "cell_type": "code",
   "execution_count": 75,
   "metadata": {
    "collapsed": true
   },
   "outputs": [],
   "source": [
    "import sklearn.linear_model as linear_model"
   ]
  },
  {
   "cell_type": "code",
   "execution_count": 76,
   "metadata": {
    "collapsed": false
   },
   "outputs": [],
   "source": [
    "log_regr_model = linear_model.LogisticRegression()\n",
    "log_regr_model.fit(X_train, y_train)\n",
    "log_regr_pred = log_regr_model.predict(X_test)\n",
    "log_regr_score = np.mean(log_regr_pred == y_test)"
   ]
  },
  {
   "cell_type": "code",
   "execution_count": 83,
   "metadata": {
    "collapsed": true
   },
   "outputs": [],
   "source": [
    "import sklearn.naive_bayes as naive_bayes"
   ]
  },
  {
   "cell_type": "code",
   "execution_count": 84,
   "metadata": {
    "collapsed": true
   },
   "outputs": [],
   "source": [
    "nb_model = naive_bayes.GaussianNB()\n",
    "nb_model.fit(X_train, y_train)\n",
    "nb_pred = nb_model.predict(X_test)\n",
    "nb_score = np.mean(nb_pred == y_test)"
   ]
  },
  {
   "cell_type": "code",
   "execution_count": 78,
   "metadata": {
    "collapsed": false
   },
   "outputs": [],
   "source": [
    "import sklearn.neighbors as neighbors"
   ]
  },
  {
   "cell_type": "code",
   "execution_count": 81,
   "metadata": {
    "collapsed": false
   },
   "outputs": [],
   "source": [
    "scores_knn = []\n",
    "for k in range(1, 15):\n",
    "    knn_model = neighbors.KNeighborsClassifier(n_neighbors = k)\n",
    "    knn_model.fit(X_train, y_train)\n",
    "    knn_pred = knn_model.predict(X_test)\n",
    "    knn_score = np.mean(knn_pred == y_test)\n",
    "    scores_knn.append((k, knn_score))"
   ]
  },
  {
   "cell_type": "code",
   "execution_count": 86,
   "metadata": {
    "collapsed": false
   },
   "outputs": [
    {
     "data": {
      "image/png": "[encoded data removed]",
      "text/plain": [
       "<matplotlib.figure.Figure at 0x109872320>"
      ]
     },
     "metadata": {},
     "output_type": "display_data"
    }
   ],
   "source": [
    "fig, ax = plt.subplots(1, 1, figsize = (7, 5))\n",
    "xx = [e[0] for e in scores_knn]\n",
    "yy = [e[1] for e in scores_knn]\n",
    "ax.set(title = 'kNN', xlabel = 'k', ylabel = 'performance')\n",
    "ax.set(ylim = (0.9 * min(log_regr_score, nb_score, min(yy)),\n",
    "               1.1 * max(log_regr_score, nb_score, max(yy))))\n",
    "_tmp = ax.plot(xx, yy, color = \"blue\", label = \"kNN\")\n",
    "_tmp = ax.plot((0, max(xx)), (log_regr_score, log_regr_score),\n",
    "               color = \"red\", label = \"LR\")\n",
    "_tmp = ax.legend()"
   ]
  },
  {
   "cell_type": "code",
   "execution_count": null,
   "metadata": {
    "collapsed": true
   },
   "outputs": [],
   "source": []
  }
 ],
 "metadata": {
  "kernelspec": {
   "display_name": "Python 3",
   "language": "python",
   "name": "python3"
  },
  "language_info": {
   "codemirror_mode": {
    "name": "ipython",
    "version": 3
   },
   "file_extension": ".py",
   "mimetype": "text/x-python",
   "name": "python",
   "nbconvert_exporter": "python",
   "pygments_lexer": "ipython3",
   "version": "3.4.3"
  }
 },
 "nbformat": 4,
 "nbformat_minor": 0
}
